{
 "cells": [
  {
   "cell_type": "code",
   "execution_count": 39,
   "metadata": {},
   "outputs": [],
   "source": [
    "import json\n",
    "from deepdiff import DeepDiff\n",
    "\n"
   ]
  },
  {
   "cell_type": "code",
   "execution_count": 40,
   "metadata": {},
   "outputs": [],
   "source": [
    "def convert_sets_to_lists(obj):\n",
    "    \"\"\"\n",
    "    Recursively convert sets to lists in a Python object.\n",
    "    Args:\n",
    "        obj: The object to process.\n",
    "    Returns:\n",
    "        The object with sets converted to lists.\n",
    "    \"\"\"\n",
    "    if isinstance(obj, set):\n",
    "        return list(obj)\n",
    "    elif isinstance(obj, dict):\n",
    "        return {key: convert_sets_to_lists(value) for key, value in obj.items()}\n",
    "    elif isinstance(obj, list):\n",
    "        return [convert_sets_to_lists(item) for item in obj]\n",
    "    else:\n",
    "        return obj\n",
    "\n",
    "def compare_json_files(file1, file2, output_file):\n",
    "    \"\"\"\n",
    "    Compare two JSON files and generate a report of differences in JSON format.\n",
    "    Args:\n",
    "        file1 (str): Path to the first JSON file.\n",
    "        file2 (str): Path to the second JSON file.\n",
    "        output_file (str): Path to save the JSON report.\n",
    "    Returns:\n",
    "        dict: A dictionary containing the differences.\n",
    "    \"\"\"\n",
    "    try:\n",
    "        # Load JSON files\n",
    "        with open(file1, 'r', encoding='utf-8') as f1, open(file2, 'r', encoding='utf-8') as f2:\n",
    "            json1 = json.load(f1)\n",
    "            json2 = json.load(f2)\n",
    "        # Compare JSON files using DeepDiff\n",
    "        differences = DeepDiff(json1, json2, ignore_order=True).to_json()\n",
    "        parsed_data = json.loads(differences)\n",
    "        # Convert sets to lists for JSON serialization\n",
    "        # differences = convert_sets_to_lists(differences)\n",
    "        # Save the differences to a JSON file\n",
    "        with open(output_file, 'w', encoding='utf-8') as out_file:\n",
    "            json.dump(parsed_data, out_file, indent=4, ensure_ascii=False)\n",
    "        return parsed_data\n",
    "    except Exception as e:\n",
    "        print(f\"An error occurred: {e}\")\n",
    "        return None\n",
    "    \n",
    "\n",
    "\n"
   ]
  },
  {
   "cell_type": "code",
   "execution_count": 41,
   "metadata": {},
   "outputs": [
    {
     "name": "stdout",
     "output_type": "stream",
     "text": [
      "Comparison complete. Differences saved to: differences_report.json\n",
      "\n",
      "Summary of Differences:\n",
      "{\n",
      "    \"dictionary_item_added\": [\n",
      "        \"root['email']\"\n",
      "    ],\n",
      "    \"values_changed\": {\n",
      "        \"root['age']\": {\n",
      "            \"new_value\": 26,\n",
      "            \"old_value\": 25\n",
      "        },\n",
      "        \"root['address']['city']\": {\n",
      "            \"new_value\": \"San Francisco\",\n",
      "            \"old_value\": \"New York\"\n",
      "        },\n",
      "        \"root['address']['zip']\": {\n",
      "            \"new_value\": \"94105\",\n",
      "            \"old_value\": \"10001\"\n",
      "        },\n",
      "        \"root['skills'][1]\": {\n",
      "            \"new_value\": \"JavaScript\",\n",
      "            \"old_value\": \"Java\"\n",
      "        }\n",
      "    }\n",
      "}\n"
     ]
    }
   ],
   "source": [
    "# Example usage\n",
    "file1 = \"file1.json\"  # Replace with the path to your first JSON file\n",
    "file2 = \"file2.json\"  # Replace with the path to your second JSON file\n",
    "output_file = \"differences_report.json\"  # Path for the output report\n",
    "differences = compare_json_files(file1, file2, output_file)\n",
    "if differences is not None:\n",
    "    print(\"Comparison complete. Differences saved to:\", output_file)\n",
    "    print(\"\\nSummary of Differences:\")\n",
    "    print(json.dumps(differences, indent=4, ensure_ascii=False))\n",
    "else:\n",
    "    print(\"Failed to generate the comparison report.\")"
   ]
  }
 ],
 "metadata": {
  "kernelspec": {
   "display_name": ".venv",
   "language": "python",
   "name": "python3"
  },
  "language_info": {
   "codemirror_mode": {
    "name": "ipython",
    "version": 3
   },
   "file_extension": ".py",
   "mimetype": "text/x-python",
   "name": "python",
   "nbconvert_exporter": "python",
   "pygments_lexer": "ipython3",
   "version": "3.12.3"
  }
 },
 "nbformat": 4,
 "nbformat_minor": 2
}
