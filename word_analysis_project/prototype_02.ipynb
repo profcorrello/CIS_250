{
 "cells": [
  {
   "cell_type": "code",
   "execution_count": 13,
   "metadata": {},
   "outputs": [
    {
     "name": "stdout",
     "output_type": "stream",
     "text": [
      "Word Analysis Prototype 2\n"
     ]
    }
   ],
   "source": [
    "print ('Word Analysis Prototype 2')\n",
    "\n",
    "# ! pip install python-docx\n",
    "from docx import Document\n"
   ]
  },
  {
   "cell_type": "code",
   "execution_count": 14,
   "metadata": {},
   "outputs": [],
   "source": [
    "# functions\n",
    "\n",
    "def analyze_word_document(file_path):\n",
    "    \"\"\"\n",
    "    Analyze a Word document and extract its elements along with font details.\n",
    "    \n",
    "    Args:\n",
    "        file_path (str): Path to the Word document.\n",
    "    \n",
    "    Returns:\n",
    "        dict: A dictionary containing lists of document elements and their font details.\n",
    "    \"\"\"\n",
    "    try:\n",
    "        doc = Document(file_path)\n",
    "        document_elements = {\n",
    "            \"headers\": [],\n",
    "            \"subheaders\": [],\n",
    "            \"paragraphs\": [],\n",
    "            \"bullet_lists\": [],\n",
    "            \"images\": []\n",
    "        }\n",
    "        for paragraph in doc.paragraphs:\n",
    "            # Extract font details\n",
    "            if paragraph.runs:  # Ensure the paragraph has runs\n",
    "                font_details = {\n",
    "                    \"text\": paragraph.text.strip(),\n",
    "                    \"font_name\": paragraph.runs[0].font.name if paragraph.runs[0].font.name else \"Default\",\n",
    "                    \"font_size\": paragraph.runs[0].font.size.pt if paragraph.runs[0].font.size else \"Default\",\n",
    "                    \"bold\": any(run.bold for run in paragraph.runs),\n",
    "                    \"italic\": any(run.italic for run in paragraph.runs),\n",
    "                    \"underline\": any(run.underline for run in paragraph.runs),\n",
    "                }\n",
    "            else:\n",
    "                font_details = {\"text\": paragraph.text.strip(), \"font_name\": \"N/A\", \"font_size\": \"N/A\", \"bold\": False, \"italic\": False, \"underline\": False}\n",
    "            # Determine the style of the paragraph\n",
    "            style = paragraph.style.name\n",
    "            # Categorize the paragraph based on its style\n",
    "            if \"Heading 1\" in style:\n",
    "                document_elements[\"headers\"].append(font_details)\n",
    "            elif \"Heading\" in style:\n",
    "                document_elements[\"subheaders\"].append(font_details)\n",
    "            elif paragraph.text.strip() != \"\":\n",
    "                document_elements[\"paragraphs\"].append(font_details)\n",
    "        # Analyze bullet lists\n",
    "        for paragraph in doc.paragraphs:\n",
    "            if paragraph.style.name.startswith(\"List\") and paragraph.text.strip():\n",
    "                font_details = {\n",
    "                    \"text\": paragraph.text.strip(),\n",
    "                    \"font_name\": paragraph.runs[0].font.name if paragraph.runs[0].font.name else \"Default\",\n",
    "                    \"font_size\": paragraph.runs[0].font.size.pt if paragraph.runs[0].font.size else \"Default\",\n",
    "                    \"bold\": any(run.bold for run in paragraph.runs),\n",
    "                    \"italic\": any(run.italic for run in paragraph.runs),\n",
    "                    \"underline\": any(run.underline for run in paragraph.runs),\n",
    "                }\n",
    "                document_elements[\"bullet_lists\"].append(font_details)\n",
    "        # Analyze images\n",
    "        for rel in doc.part.rels.values():\n",
    "            if \"image\" in rel.target_ref:\n",
    "                document_elements[\"images\"].append(rel.target_ref)\n",
    "        return document_elements\n",
    "    except Exception as e:\n",
    "        print(f\"An error occurred while processing the document: {e}\")\n",
    "        return None\n",
    "\n",
    "\n"
   ]
  },
  {
   "cell_type": "code",
   "execution_count": 15,
   "metadata": {},
   "outputs": [
    {
     "name": "stdout",
     "output_type": "stream",
     "text": [
      "Document Elements Found:\n",
      "\n",
      "Headers:\n",
      "\n",
      "Subheaders:\n",
      "\n",
      "Paragraphs:\n",
      "  - What I Hope to Achieve in This Course (Font: Default, Size: Default, Bold: False, Italic: False, Underline: False)\n",
      "  - I hope to get a good grade and learn some stuff about computers. (Font: Calibri, Size: Default, Bold: False, Italic: False, Underline: False)\n",
      "  - Big computers (Font: Calibri, Size: Default, Bold: False, Italic: False, Underline: False)\n",
      "  - Little computers (Font: Calibri, Size: Default, Bold: False, Italic: False, Underline: False)\n",
      "\n",
      "Bullet Lists:\n",
      "  - Big computers (Font: Calibri, Size: Default, Bold: False, Italic: False, Underline: False)\n",
      "  - Little computers (Font: Calibri, Size: Default, Bold: False, Italic: False, Underline: False)\n",
      "\n",
      "Images:\n",
      "  - ../media/image.jpg\n"
     ]
    }
   ],
   "source": [
    "# Example usage\n",
    "\n",
    "file_path = \"example_one.docx\"  # Replace with your Word document path\n",
    "results = analyze_word_document(file_path)\n",
    "if results:\n",
    "    print(\"Document Elements Found:\")\n",
    "    print(\"\\nHeaders:\")\n",
    "    for header in results[\"headers\"]:\n",
    "        print(f\"  - {header['text']} (Font: {header['font_name']}, Size: {header['font_size']}, Bold: {header['bold']}, Italic: {header['italic']}, Underline: {header['underline']})\")\n",
    "    print(\"\\nSubheaders:\")\n",
    "    for subheader in results[\"subheaders\"]:\n",
    "        print(f\"  - {subheader['text']} (Font: {subheader['font_name']}, Size: {subheader['font_size']}, Bold: {subheader['bold']}, Italic: {subheader['italic']}, Underline: {subheader['underline']})\")\n",
    "    print(\"\\nParagraphs:\")\n",
    "    for paragraph in results[\"paragraphs\"]:\n",
    "        print(f\"  - {paragraph['text']} (Font: {paragraph['font_name']}, Size: {paragraph['font_size']}, Bold: {paragraph['bold']}, Italic: {paragraph['italic']}, Underline: {paragraph['underline']})\")\n",
    "    print(\"\\nBullet Lists:\")\n",
    "    for bullet in results[\"bullet_lists\"]:\n",
    "        print(f\"  - {bullet['text']} (Font: {bullet['font_name']}, Size: {bullet['font_size']}, Bold: {bullet['bold']}, Italic: {bullet['italic']}, Underline: {bullet['underline']})\")\n",
    "    print(\"\\nImages:\")\n",
    "    for image in results[\"images\"]:\n",
    "        print(f\"  - {image}\")"
   ]
  }
 ],
 "metadata": {
  "kernelspec": {
   "display_name": ".venv",
   "language": "python",
   "name": "python3"
  },
  "language_info": {
   "codemirror_mode": {
    "name": "ipython",
    "version": 3
   },
   "file_extension": ".py",
   "mimetype": "text/x-python",
   "name": "python",
   "nbconvert_exporter": "python",
   "pygments_lexer": "ipython3",
   "version": "3.12.3"
  }
 },
 "nbformat": 4,
 "nbformat_minor": 2
}
