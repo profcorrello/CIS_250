{
 "cells": [
  {
   "cell_type": "code",
   "execution_count": 3,
   "metadata": {},
   "outputs": [
    {
     "name": "stdout",
     "output_type": "stream",
     "text": [
      "hello\n"
     ]
    }
   ],
   "source": [
    "print ('hello')\n",
    "\n",
    "# ! pip install python-docx\n",
    "\n"
   ]
  },
  {
   "cell_type": "code",
   "execution_count": 4,
   "metadata": {},
   "outputs": [],
   "source": [
    "from docx import Document\n",
    "\n",
    "# Create a new document\n",
    "document = Document()\n",
    "\n",
    "# Add a heading\n",
    "document.add_heading('My Document', 0)  # 0 indicates the highest heading level\n",
    "\n",
    "# Add a paragraph\n",
    "p = document.add_paragraph('This is a paragraph.')\n",
    "\n",
    "# Add text with formatting\n",
    "p.add_run(' This text is in bold.').bold = True\n",
    "p.add_run(' This text is in italics.').italic = True\n",
    "\n",
    "# Add a bulleted list\n",
    "document.add_paragraph('Here is a bulleted list:', style='List Bullet')\n",
    "document.add_paragraph('Item 1')\n",
    "document.add_paragraph('Item 2')\n",
    "\n",
    "# Add a table\n",
    "table = document.add_table(rows=2, cols=2)\n",
    "table.cell(0, 0).text = 'Column 1'\n",
    "table.cell(0, 1).text = 'Column 2'\n",
    "table.cell(1, 0).text = 'Value 1'\n",
    "table.cell(1, 1).text = 'Value 2'\n",
    "\n",
    "# Save the document\n",
    "document.save('example_document.docx')"
   ]
  }
 ],
 "metadata": {
  "kernelspec": {
   "display_name": ".venv",
   "language": "python",
   "name": "python3"
  },
  "language_info": {
   "codemirror_mode": {
    "name": "ipython",
    "version": 3
   },
   "file_extension": ".py",
   "mimetype": "text/x-python",
   "name": "python",
   "nbconvert_exporter": "python",
   "pygments_lexer": "ipython3",
   "version": "3.12.3"
  }
 },
 "nbformat": 4,
 "nbformat_minor": 2
}
